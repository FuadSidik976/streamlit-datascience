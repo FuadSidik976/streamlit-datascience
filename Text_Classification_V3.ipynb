{
  "nbformat": 4,
  "nbformat_minor": 0,
  "metadata": {
    "colab": {
      "provenance": [],
      "toc_visible": true
    },
    "kernelspec": {
      "name": "python3",
      "display_name": "Python 3"
    },
    "language_info": {
      "name": "python"
    }
  },
  "cells": [
    {
      "cell_type": "code",
      "execution_count": 1,
      "metadata": {
        "id": "wBDUv78lBHkU",
        "colab": {
          "base_uri": "https://localhost:8080/"
        },
        "outputId": "6c43d9e4-318c-410c-8169-6c8266eef4e2"
      },
      "outputs": [
        {
          "output_type": "stream",
          "name": "stderr",
          "text": [
            "[nltk_data] Downloading package stopwords to /root/nltk_data...\n",
            "[nltk_data]   Unzipping corpora/stopwords.zip.\n"
          ]
        }
      ],
      "source": [
        "\n",
        "# import library yang dibutuhkan\n",
        "import re\n",
        "import string\n",
        "\n",
        "import numpy as np\n",
        "import pandas as pd\n",
        "import matplotlib.pyplot as plt\n",
        "from sklearn.model_selection import train_test_split\n",
        "from sklearn.feature_extraction.text import CountVectorizer\n",
        "from sklearn.naive_bayes import MultinomialNB\n",
        "from sklearn.metrics import accuracy_score, precision_score, recall_score, f1_score\n",
        "from nltk.stem import PorterStemmer\n",
        "import nltk\n",
        "nltk.download('stopwords')\n",
        "from nltk.corpus import stopwords\n",
        "import tensorflow as tf\n",
        "import keras\n",
        "\n",
        "\n",
        "\n",
        "\n",
        "\n",
        "\n"
      ]
    },
    {
      "cell_type": "markdown",
      "source": [
        "# Text Classification\n"
      ],
      "metadata": {
        "id": "Q2X1iMXuM8EQ"
      }
    },
    {
      "cell_type": "markdown",
      "source": [
        "# Text Preporcessing\n",
        "Pada bagian ini kita akan menerapkan praproses teks yang sederhana berupa lowercase, Uppercase, stemmer & Stop word"
      ],
      "metadata": {
        "id": "XduKwMHSNF4Y"
      }
    },
    {
      "cell_type": "code",
      "source": [
        "# membaca data dari file csv\n",
        "df = pd.read_csv('/content/data.csv')\n",
        "df.head()"
      ],
      "metadata": {
        "colab": {
          "base_uri": "https://localhost:8080/",
          "height": 206
        },
        "id": "rMVn5UmpEwaY",
        "outputId": "328838bb-5b03-4ba6-afe1-6951bdde0576"
      },
      "execution_count": 2,
      "outputs": [
        {
          "output_type": "execute_result",
          "data": {
            "text/plain": [
              "  Category                                            Message\n",
              "0      ham  Go until jurong point, crazy.. Available only ...\n",
              "1      ham                      Ok lar... Joking wif u oni...\n",
              "2     spam  Free entry in 2 a wkly comp to win FA Cup fina...\n",
              "3      ham  U dun say so early hor... U c already then say...\n",
              "4      ham  Nah I don't think he goes to usf, he lives aro..."
            ],
            "text/html": [
              "\n",
              "  <div id=\"df-a571c36c-9396-4cd6-a437-a7a43c024ae1\">\n",
              "    <div class=\"colab-df-container\">\n",
              "      <div>\n",
              "<style scoped>\n",
              "    .dataframe tbody tr th:only-of-type {\n",
              "        vertical-align: middle;\n",
              "    }\n",
              "\n",
              "    .dataframe tbody tr th {\n",
              "        vertical-align: top;\n",
              "    }\n",
              "\n",
              "    .dataframe thead th {\n",
              "        text-align: right;\n",
              "    }\n",
              "</style>\n",
              "<table border=\"1\" class=\"dataframe\">\n",
              "  <thead>\n",
              "    <tr style=\"text-align: right;\">\n",
              "      <th></th>\n",
              "      <th>Category</th>\n",
              "      <th>Message</th>\n",
              "    </tr>\n",
              "  </thead>\n",
              "  <tbody>\n",
              "    <tr>\n",
              "      <th>0</th>\n",
              "      <td>ham</td>\n",
              "      <td>Go until jurong point, crazy.. Available only ...</td>\n",
              "    </tr>\n",
              "    <tr>\n",
              "      <th>1</th>\n",
              "      <td>ham</td>\n",
              "      <td>Ok lar... Joking wif u oni...</td>\n",
              "    </tr>\n",
              "    <tr>\n",
              "      <th>2</th>\n",
              "      <td>spam</td>\n",
              "      <td>Free entry in 2 a wkly comp to win FA Cup fina...</td>\n",
              "    </tr>\n",
              "    <tr>\n",
              "      <th>3</th>\n",
              "      <td>ham</td>\n",
              "      <td>U dun say so early hor... U c already then say...</td>\n",
              "    </tr>\n",
              "    <tr>\n",
              "      <th>4</th>\n",
              "      <td>ham</td>\n",
              "      <td>Nah I don't think he goes to usf, he lives aro...</td>\n",
              "    </tr>\n",
              "  </tbody>\n",
              "</table>\n",
              "</div>\n",
              "      <button class=\"colab-df-convert\" onclick=\"convertToInteractive('df-a571c36c-9396-4cd6-a437-a7a43c024ae1')\"\n",
              "              title=\"Convert this dataframe to an interactive table.\"\n",
              "              style=\"display:none;\">\n",
              "        \n",
              "  <svg xmlns=\"http://www.w3.org/2000/svg\" height=\"24px\"viewBox=\"0 0 24 24\"\n",
              "       width=\"24px\">\n",
              "    <path d=\"M0 0h24v24H0V0z\" fill=\"none\"/>\n",
              "    <path d=\"M18.56 5.44l.94 2.06.94-2.06 2.06-.94-2.06-.94-.94-2.06-.94 2.06-2.06.94zm-11 1L8.5 8.5l.94-2.06 2.06-.94-2.06-.94L8.5 2.5l-.94 2.06-2.06.94zm10 10l.94 2.06.94-2.06 2.06-.94-2.06-.94-.94-2.06-.94 2.06-2.06.94z\"/><path d=\"M17.41 7.96l-1.37-1.37c-.4-.4-.92-.59-1.43-.59-.52 0-1.04.2-1.43.59L10.3 9.45l-7.72 7.72c-.78.78-.78 2.05 0 2.83L4 21.41c.39.39.9.59 1.41.59.51 0 1.02-.2 1.41-.59l7.78-7.78 2.81-2.81c.8-.78.8-2.07 0-2.86zM5.41 20L4 18.59l7.72-7.72 1.47 1.35L5.41 20z\"/>\n",
              "  </svg>\n",
              "      </button>\n",
              "      \n",
              "  <style>\n",
              "    .colab-df-container {\n",
              "      display:flex;\n",
              "      flex-wrap:wrap;\n",
              "      gap: 12px;\n",
              "    }\n",
              "\n",
              "    .colab-df-convert {\n",
              "      background-color: #E8F0FE;\n",
              "      border: none;\n",
              "      border-radius: 50%;\n",
              "      cursor: pointer;\n",
              "      display: none;\n",
              "      fill: #1967D2;\n",
              "      height: 32px;\n",
              "      padding: 0 0 0 0;\n",
              "      width: 32px;\n",
              "    }\n",
              "\n",
              "    .colab-df-convert:hover {\n",
              "      background-color: #E2EBFA;\n",
              "      box-shadow: 0px 1px 2px rgba(60, 64, 67, 0.3), 0px 1px 3px 1px rgba(60, 64, 67, 0.15);\n",
              "      fill: #174EA6;\n",
              "    }\n",
              "\n",
              "    [theme=dark] .colab-df-convert {\n",
              "      background-color: #3B4455;\n",
              "      fill: #D2E3FC;\n",
              "    }\n",
              "\n",
              "    [theme=dark] .colab-df-convert:hover {\n",
              "      background-color: #434B5C;\n",
              "      box-shadow: 0px 1px 3px 1px rgba(0, 0, 0, 0.15);\n",
              "      filter: drop-shadow(0px 1px 2px rgba(0, 0, 0, 0.3));\n",
              "      fill: #FFFFFF;\n",
              "    }\n",
              "  </style>\n",
              "\n",
              "      <script>\n",
              "        const buttonEl =\n",
              "          document.querySelector('#df-a571c36c-9396-4cd6-a437-a7a43c024ae1 button.colab-df-convert');\n",
              "        buttonEl.style.display =\n",
              "          google.colab.kernel.accessAllowed ? 'block' : 'none';\n",
              "\n",
              "        async function convertToInteractive(key) {\n",
              "          const element = document.querySelector('#df-a571c36c-9396-4cd6-a437-a7a43c024ae1');\n",
              "          const dataTable =\n",
              "            await google.colab.kernel.invokeFunction('convertToInteractive',\n",
              "                                                     [key], {});\n",
              "          if (!dataTable) return;\n",
              "\n",
              "          const docLinkHtml = 'Like what you see? Visit the ' +\n",
              "            '<a target=\"_blank\" href=https://colab.research.google.com/notebooks/data_table.ipynb>data table notebook</a>'\n",
              "            + ' to learn more about interactive tables.';\n",
              "          element.innerHTML = '';\n",
              "          dataTable['output_type'] = 'display_data';\n",
              "          await google.colab.output.renderOutput(dataTable, element);\n",
              "          const docLink = document.createElement('div');\n",
              "          docLink.innerHTML = docLinkHtml;\n",
              "          element.appendChild(docLink);\n",
              "        }\n",
              "      </script>\n",
              "    </div>\n",
              "  </div>\n",
              "  "
            ]
          },
          "metadata": {},
          "execution_count": 2
        }
      ]
    },
    {
      "cell_type": "code",
      "source": [
        "# Lowercase\n",
        "def lowercase(text):\n",
        "    return text.lower()\n",
        "\n",
        "# Hilangkan Tanda Baca\n",
        "table = str.maketrans(\"\", \"\", string.punctuation)\n",
        "def remove_puncts(text):\n",
        "    return text.translate(table)\n",
        "\n",
        "# Hilangkan Url\n",
        "def remove_url(text):\n",
        "    url = re.compile(r\"https?(://\\S+|\\S+)|www\\.\\S+\")\n",
        "    return url.sub(\"\", text)\n",
        "\n",
        "# Praproses Teks\n",
        "def preprocess_text(text):\n",
        "    text = lowercase(text)\n",
        "    text = remove_url(text)\n",
        "    text = remove_puncts(text)\n",
        "    return text"
      ],
      "metadata": {
        "id": "HBYxpPnQl6Ip"
      },
      "execution_count": 3,
      "outputs": []
    },
    {
      "cell_type": "code",
      "source": [
        "df[\"Message_cleaned\"] = df[\"Message\"].apply(preprocess_text)\n",
        "df.head()"
      ],
      "metadata": {
        "colab": {
          "base_uri": "https://localhost:8080/",
          "height": 206
        },
        "id": "ycTleqkXmMVm",
        "outputId": "ba4477e3-59e1-4420-adbc-55580d430c7f"
      },
      "execution_count": 4,
      "outputs": [
        {
          "output_type": "execute_result",
          "data": {
            "text/plain": [
              "  Category                                            Message  \\\n",
              "0      ham  Go until jurong point, crazy.. Available only ...   \n",
              "1      ham                      Ok lar... Joking wif u oni...   \n",
              "2     spam  Free entry in 2 a wkly comp to win FA Cup fina...   \n",
              "3      ham  U dun say so early hor... U c already then say...   \n",
              "4      ham  Nah I don't think he goes to usf, he lives aro...   \n",
              "\n",
              "                                     Message_cleaned  \n",
              "0  go until jurong point crazy available only in ...  \n",
              "1                            ok lar joking wif u oni  \n",
              "2  free entry in 2 a wkly comp to win fa cup fina...  \n",
              "3        u dun say so early hor u c already then say  \n",
              "4  nah i dont think he goes to usf he lives aroun...  "
            ],
            "text/html": [
              "\n",
              "  <div id=\"df-9f63b1a5-8554-4de1-aadc-b121c78a51ca\">\n",
              "    <div class=\"colab-df-container\">\n",
              "      <div>\n",
              "<style scoped>\n",
              "    .dataframe tbody tr th:only-of-type {\n",
              "        vertical-align: middle;\n",
              "    }\n",
              "\n",
              "    .dataframe tbody tr th {\n",
              "        vertical-align: top;\n",
              "    }\n",
              "\n",
              "    .dataframe thead th {\n",
              "        text-align: right;\n",
              "    }\n",
              "</style>\n",
              "<table border=\"1\" class=\"dataframe\">\n",
              "  <thead>\n",
              "    <tr style=\"text-align: right;\">\n",
              "      <th></th>\n",
              "      <th>Category</th>\n",
              "      <th>Message</th>\n",
              "      <th>Message_cleaned</th>\n",
              "    </tr>\n",
              "  </thead>\n",
              "  <tbody>\n",
              "    <tr>\n",
              "      <th>0</th>\n",
              "      <td>ham</td>\n",
              "      <td>Go until jurong point, crazy.. Available only ...</td>\n",
              "      <td>go until jurong point crazy available only in ...</td>\n",
              "    </tr>\n",
              "    <tr>\n",
              "      <th>1</th>\n",
              "      <td>ham</td>\n",
              "      <td>Ok lar... Joking wif u oni...</td>\n",
              "      <td>ok lar joking wif u oni</td>\n",
              "    </tr>\n",
              "    <tr>\n",
              "      <th>2</th>\n",
              "      <td>spam</td>\n",
              "      <td>Free entry in 2 a wkly comp to win FA Cup fina...</td>\n",
              "      <td>free entry in 2 a wkly comp to win fa cup fina...</td>\n",
              "    </tr>\n",
              "    <tr>\n",
              "      <th>3</th>\n",
              "      <td>ham</td>\n",
              "      <td>U dun say so early hor... U c already then say...</td>\n",
              "      <td>u dun say so early hor u c already then say</td>\n",
              "    </tr>\n",
              "    <tr>\n",
              "      <th>4</th>\n",
              "      <td>ham</td>\n",
              "      <td>Nah I don't think he goes to usf, he lives aro...</td>\n",
              "      <td>nah i dont think he goes to usf he lives aroun...</td>\n",
              "    </tr>\n",
              "  </tbody>\n",
              "</table>\n",
              "</div>\n",
              "      <button class=\"colab-df-convert\" onclick=\"convertToInteractive('df-9f63b1a5-8554-4de1-aadc-b121c78a51ca')\"\n",
              "              title=\"Convert this dataframe to an interactive table.\"\n",
              "              style=\"display:none;\">\n",
              "        \n",
              "  <svg xmlns=\"http://www.w3.org/2000/svg\" height=\"24px\"viewBox=\"0 0 24 24\"\n",
              "       width=\"24px\">\n",
              "    <path d=\"M0 0h24v24H0V0z\" fill=\"none\"/>\n",
              "    <path d=\"M18.56 5.44l.94 2.06.94-2.06 2.06-.94-2.06-.94-.94-2.06-.94 2.06-2.06.94zm-11 1L8.5 8.5l.94-2.06 2.06-.94-2.06-.94L8.5 2.5l-.94 2.06-2.06.94zm10 10l.94 2.06.94-2.06 2.06-.94-2.06-.94-.94-2.06-.94 2.06-2.06.94z\"/><path d=\"M17.41 7.96l-1.37-1.37c-.4-.4-.92-.59-1.43-.59-.52 0-1.04.2-1.43.59L10.3 9.45l-7.72 7.72c-.78.78-.78 2.05 0 2.83L4 21.41c.39.39.9.59 1.41.59.51 0 1.02-.2 1.41-.59l7.78-7.78 2.81-2.81c.8-.78.8-2.07 0-2.86zM5.41 20L4 18.59l7.72-7.72 1.47 1.35L5.41 20z\"/>\n",
              "  </svg>\n",
              "      </button>\n",
              "      \n",
              "  <style>\n",
              "    .colab-df-container {\n",
              "      display:flex;\n",
              "      flex-wrap:wrap;\n",
              "      gap: 12px;\n",
              "    }\n",
              "\n",
              "    .colab-df-convert {\n",
              "      background-color: #E8F0FE;\n",
              "      border: none;\n",
              "      border-radius: 50%;\n",
              "      cursor: pointer;\n",
              "      display: none;\n",
              "      fill: #1967D2;\n",
              "      height: 32px;\n",
              "      padding: 0 0 0 0;\n",
              "      width: 32px;\n",
              "    }\n",
              "\n",
              "    .colab-df-convert:hover {\n",
              "      background-color: #E2EBFA;\n",
              "      box-shadow: 0px 1px 2px rgba(60, 64, 67, 0.3), 0px 1px 3px 1px rgba(60, 64, 67, 0.15);\n",
              "      fill: #174EA6;\n",
              "    }\n",
              "\n",
              "    [theme=dark] .colab-df-convert {\n",
              "      background-color: #3B4455;\n",
              "      fill: #D2E3FC;\n",
              "    }\n",
              "\n",
              "    [theme=dark] .colab-df-convert:hover {\n",
              "      background-color: #434B5C;\n",
              "      box-shadow: 0px 1px 3px 1px rgba(0, 0, 0, 0.15);\n",
              "      filter: drop-shadow(0px 1px 2px rgba(0, 0, 0, 0.3));\n",
              "      fill: #FFFFFF;\n",
              "    }\n",
              "  </style>\n",
              "\n",
              "      <script>\n",
              "        const buttonEl =\n",
              "          document.querySelector('#df-9f63b1a5-8554-4de1-aadc-b121c78a51ca button.colab-df-convert');\n",
              "        buttonEl.style.display =\n",
              "          google.colab.kernel.accessAllowed ? 'block' : 'none';\n",
              "\n",
              "        async function convertToInteractive(key) {\n",
              "          const element = document.querySelector('#df-9f63b1a5-8554-4de1-aadc-b121c78a51ca');\n",
              "          const dataTable =\n",
              "            await google.colab.kernel.invokeFunction('convertToInteractive',\n",
              "                                                     [key], {});\n",
              "          if (!dataTable) return;\n",
              "\n",
              "          const docLinkHtml = 'Like what you see? Visit the ' +\n",
              "            '<a target=\"_blank\" href=https://colab.research.google.com/notebooks/data_table.ipynb>data table notebook</a>'\n",
              "            + ' to learn more about interactive tables.';\n",
              "          element.innerHTML = '';\n",
              "          dataTable['output_type'] = 'display_data';\n",
              "          await google.colab.output.renderOutput(dataTable, element);\n",
              "          const docLink = document.createElement('div');\n",
              "          docLink.innerHTML = docLinkHtml;\n",
              "          element.appendChild(docLink);\n",
              "        }\n",
              "      </script>\n",
              "    </div>\n",
              "  </div>\n",
              "  "
            ]
          },
          "metadata": {},
          "execution_count": 4
        }
      ]
    },
    {
      "cell_type": "code",
      "source": [
        "# Membuat fungsi untuk membersihkan teks\n",
        "def clean_text(text):\n",
        "    text = text.lower()  # Mengubah huruf menjadi lowercase\n",
        "    text = re.sub(r'[^\\w\\s]', '', text)  # Menghapus tanda baca\n",
        "    text = re.sub(r'\\s+', ' ', text)  # Menghapus spasi berlebih\n",
        "    return text\n",
        "\n",
        "# Membersihkan kolom \"Message\"\n",
        "df['Message_cleaned'] = df['Message'].apply(clean_text)\n",
        "\n",
        "# Mengubah kategori \"ham\" dan \"spam\" menjadi nilai biner\n",
        "df['label'] = np.where(df['Category']=='ham', 0, 1)\n",
        "\n",
        "# Menghapus kolom kategori \"ham\" dan \"spam\" asli\n",
        "df = df.drop(['Category', 'Message'], axis=1)"
      ],
      "metadata": {
        "id": "94zvh-rcY3Rq"
      },
      "execution_count": 5,
      "outputs": []
    },
    {
      "cell_type": "code",
      "source": [
        "# function untuk prediksi spam atau not\n",
        "def predict(texts, model):\n",
        "    texts = [preprocess_text(text) for text in texts]\n",
        "    seq = tokenizer.texts_to_sequences(texts)\n",
        "    seq = tf.keras.preprocessing.sequence.pad_sequences(seq, maxlen=maxlen, padding=\"post\")\n",
        "    probs = model.predict(seq)\n",
        "    return probs"
      ],
      "metadata": {
        "id": "sBpfYxKTJpRA"
      },
      "execution_count": 6,
      "outputs": []
    },
    {
      "cell_type": "markdown",
      "source": [
        "# Train-Test Split\n",
        "Memisahkan data menjadi train-test\n"
      ],
      "metadata": {
        "id": "NWcr9_wlNy9R"
      }
    },
    {
      "cell_type": "code",
      "source": [
        "text_cls = X_train, X_test, y_train, y_test = train_test_split(df[\"Message_cleaned\"], df[\"label\"])\n"
      ],
      "metadata": {
        "id": "zknJs6t2i0nC"
      },
      "execution_count": 7,
      "outputs": []
    },
    {
      "cell_type": "markdown",
      "source": [
        "# Text Vectorization\n",
        "Membuat data secara berurutan dan menentukan panjang kalimat menjadi  sama"
      ],
      "metadata": {
        "id": "qvcAxKj7m3r2"
      }
    },
    {
      "cell_type": "code",
      "source": [
        "# Jumlah panjang kalimat maksimal\n",
        "maxlen = df[\"Message_cleaned\"].str.split().str.len().max()\n",
        "maxlen = 30  # Pakai 30 ngikutin tutor biar cpt\n",
        "maxlen"
      ],
      "metadata": {
        "colab": {
          "base_uri": "https://localhost:8080/"
        },
        "id": "nioNASHAmzGy",
        "outputId": "41c77a27-d298-40a7-9774-67ff1410d9ec"
      },
      "execution_count": 8,
      "outputs": [
        {
          "output_type": "execute_result",
          "data": {
            "text/plain": [
              "30"
            ]
          },
          "metadata": {},
          "execution_count": 8
        }
      ]
    },
    {
      "cell_type": "code",
      "source": [
        "# Tokenizer\n",
        "tokenizer = keras.preprocessing.text.Tokenizer(num_words=10000)\n",
        "\n",
        "# Update kosa kata\n",
        "tokenizer.fit_on_texts(df[\"Message_cleaned\"])\n",
        "\n",
        "# Ubah teks menjadi sequence\n",
        "X_train_sequence = tokenizer.texts_to_sequences(X_train)\n",
        "X_test_sequence = tokenizer.texts_to_sequences(X_test)\n",
        "\n",
        "\n",
        "# Samakan panjang kalimat\n",
        "X_train_sequence = tf.keras.preprocessing.sequence.pad_sequences(X_train_sequence, maxlen=maxlen, padding=\"post\")\n",
        "X_test_sequence = tf.keras.preprocessing.sequence.pad_sequences(X_test_sequence, maxlen=maxlen, padding=\"post\")\n",
        "\n",
        "# X_train_sequence\n",
        "X_train_sequence.shape\n"
      ],
      "metadata": {
        "colab": {
          "base_uri": "https://localhost:8080/"
        },
        "id": "Dpeag31iqvd_",
        "outputId": "7e142461-9053-4407-c9a3-4c414bdde6a3"
      },
      "execution_count": 9,
      "outputs": [
        {
          "output_type": "execute_result",
          "data": {
            "text/plain": [
              "(4179, 30)"
            ]
          },
          "metadata": {},
          "execution_count": 9
        }
      ]
    },
    {
      "cell_type": "markdown",
      "source": [
        "# Dasar menggunakan Keras"
      ],
      "metadata": {
        "id": "h7kgIwVZ2Izs"
      }
    },
    {
      "cell_type": "code",
      "source": [
        "inputs = tf.random.normal(shape=(100, 3))\n",
        "outputs = tf.random.normal(shape=(100, 1))\n",
        "\n",
        "inputs.shape, outputs.shape"
      ],
      "metadata": {
        "colab": {
          "base_uri": "https://localhost:8080/"
        },
        "id": "bWFyHA6G2KtI",
        "outputId": "ec807e87-05e5-44ef-fb1f-25fdcd093044"
      },
      "execution_count": 10,
      "outputs": [
        {
          "output_type": "execute_result",
          "data": {
            "text/plain": [
              "(TensorShape([100, 3]), TensorShape([100, 1]))"
            ]
          },
          "metadata": {},
          "execution_count": 10
        }
      ]
    },
    {
      "cell_type": "code",
      "source": [
        "model = tf.keras.models.Sequential()\n",
        "model.add( tf.keras.layers.Input(shape=(3,)) )\n",
        "model.add( tf.keras.layers.Dense(16) )\n",
        "model.add( tf.keras.layers.Dense(1, activation=\"sigmoid\") )\n",
        "\n",
        "\n",
        "model.compile(optimizer=\"adam\", loss=\"binary_crossentropy\", metrics=[\"acc\"])\n",
        "\n",
        "model.summary()"
      ],
      "metadata": {
        "colab": {
          "base_uri": "https://localhost:8080/"
        },
        "id": "A7fB4tuJ2N9z",
        "outputId": "64169008-2e92-4dc6-faa1-9bf7e2e29327"
      },
      "execution_count": 11,
      "outputs": [
        {
          "output_type": "stream",
          "name": "stdout",
          "text": [
            "Model: \"sequential\"\n",
            "_________________________________________________________________\n",
            " Layer (type)                Output Shape              Param #   \n",
            "=================================================================\n",
            " dense (Dense)               (None, 16)                64        \n",
            "                                                                 \n",
            " dense_1 (Dense)             (None, 1)                 17        \n",
            "                                                                 \n",
            "=================================================================\n",
            "Total params: 81\n",
            "Trainable params: 81\n",
            "Non-trainable params: 0\n",
            "_________________________________________________________________\n"
          ]
        }
      ]
    },
    {
      "cell_type": "code",
      "source": [
        "model.fit(inputs, outputs, epochs=1, batch_size=32)"
      ],
      "metadata": {
        "colab": {
          "base_uri": "https://localhost:8080/"
        },
        "id": "FkvDPy9N2SaT",
        "outputId": "c319df17-8ad5-44b7-b8cf-62005155fc41"
      },
      "execution_count": 12,
      "outputs": [
        {
          "output_type": "stream",
          "name": "stdout",
          "text": [
            "4/4 [==============================] - 1s 5ms/step - loss: 0.7159 - acc: 0.0000e+00\n"
          ]
        },
        {
          "output_type": "execute_result",
          "data": {
            "text/plain": [
              "<keras.callbacks.History at 0x7f091ad79580>"
            ]
          },
          "metadata": {},
          "execution_count": 12
        }
      ]
    },
    {
      "cell_type": "markdown",
      "source": [
        "# Modelling\n",
        "Pemodelan dalam data teks bisa kita lakukan secara bervariasi tergantung jenis layar apa yang akan kita pakai."
      ],
      "metadata": {
        "id": "el7loW0KxoRP"
      }
    },
    {
      "cell_type": "code",
      "source": [
        "# Parameter Belajar\n",
        "BATCH_SIZE = 32\n",
        "EPOCH = 2\n",
        "EMBEDDING_DIM = 32"
      ],
      "metadata": {
        "id": "6R6UFTQExq3l"
      },
      "execution_count": 13,
      "outputs": []
    },
    {
      "cell_type": "markdown",
      "source": [
        "# Word Embedding\n",
        "Kita membuat model NN yang mengubah data teks menjadi vektor kemudian langsung ditersukan ke layar klasifikasi.\n",
        "\n",
        "Cara membuatnya:\n",
        "\n",
        "Buat layar Embedding\n",
        "Ratakan hasil vektor dengan Flatten\n",
        "Salurkan ke layar klasifikasi."
      ],
      "metadata": {
        "id": "ayWynDQyxvRW"
      }
    },
    {
      "cell_type": "code",
      "source": [
        "# 1. Susun layer\n",
        "## Model menerima input dengan dimensi ke-2 sebesar \"maxlen\"\n",
        "inputs = keras.layers.Input(shape=(maxlen,))\n",
        "\n",
        "## Tiap elemen dalam dimensi terakhir akan di tanamkan vektor\n",
        "x = keras.layers.Embedding(10000, EMBEDDING_DIM, input_length=maxlen)(inputs)\n",
        "\n",
        "## Ratakan word embedding\n",
        "x = keras.layers.Flatten()(x)\n",
        "\n",
        "## Salurkan ke layer klasifikasi\n",
        "outputs = keras.layers.Dense(1, activation=\"sigmoid\")(x)\n",
        "\n",
        "# 2. Buat model\n",
        "model_embed = keras.models.Model(inputs=inputs, outputs=outputs)\n",
        "\n",
        "# 3. Compile\n",
        "model_embed.compile(\n",
        "    optimizer=tf.keras.optimizers.Adam(),\n",
        "    loss=tf.keras.losses.BinaryCrossentropy(),\n",
        "    metrics=[tf.keras.metrics.BinaryAccuracy()]\n",
        ")\n",
        "\n",
        "# 4. Cek struktur model\n",
        "model_embed.summary()"
      ],
      "metadata": {
        "id": "_2k0C5znxx6s",
        "colab": {
          "base_uri": "https://localhost:8080/"
        },
        "outputId": "4fe8ce43-8369-47ba-c955-ffb199c5f11e"
      },
      "execution_count": 14,
      "outputs": [
        {
          "output_type": "stream",
          "name": "stdout",
          "text": [
            "Model: \"model\"\n",
            "_________________________________________________________________\n",
            " Layer (type)                Output Shape              Param #   \n",
            "=================================================================\n",
            " input_2 (InputLayer)        [(None, 30)]              0         \n",
            "                                                                 \n",
            " embedding (Embedding)       (None, 30, 32)            320000    \n",
            "                                                                 \n",
            " flatten (Flatten)           (None, 960)               0         \n",
            "                                                                 \n",
            " dense_2 (Dense)             (None, 1)                 961       \n",
            "                                                                 \n",
            "=================================================================\n",
            "Total params: 320,961\n",
            "Trainable params: 320,961\n",
            "Non-trainable params: 0\n",
            "_________________________________________________________________\n"
          ]
        }
      ]
    },
    {
      "cell_type": "code",
      "source": [
        "!pip install --upgrade tensorflow\n",
        "!pip install --upgrade keras\n",
        "!apt-get install python3.9"
      ],
      "metadata": {
        "id": "BRJeL4DZUyTI",
        "colab": {
          "base_uri": "https://localhost:8080/"
        },
        "outputId": "1616f65f-5678-4f50-da73-1d515ed0dc1e"
      },
      "execution_count": 15,
      "outputs": [
        {
          "output_type": "stream",
          "name": "stdout",
          "text": [
            "Looking in indexes: https://pypi.org/simple, https://us-python.pkg.dev/colab-wheels/public/simple/\n",
            "Requirement already satisfied: tensorflow in /usr/local/lib/python3.8/dist-packages (2.11.0)\n",
            "Requirement already satisfied: setuptools in /usr/local/lib/python3.8/dist-packages (from tensorflow) (57.4.0)\n",
            "Requirement already satisfied: packaging in /usr/local/lib/python3.8/dist-packages (from tensorflow) (23.0)\n",
            "Requirement already satisfied: tensorflow-estimator<2.12,>=2.11.0 in /usr/local/lib/python3.8/dist-packages (from tensorflow) (2.11.0)\n",
            "Requirement already satisfied: tensorflow-io-gcs-filesystem>=0.23.1 in /usr/local/lib/python3.8/dist-packages (from tensorflow) (0.30.0)\n",
            "Requirement already satisfied: grpcio<2.0,>=1.24.3 in /usr/local/lib/python3.8/dist-packages (from tensorflow) (1.51.1)\n",
            "Requirement already satisfied: protobuf<3.20,>=3.9.2 in /usr/local/lib/python3.8/dist-packages (from tensorflow) (3.19.6)\n",
            "Requirement already satisfied: wrapt>=1.11.0 in /usr/local/lib/python3.8/dist-packages (from tensorflow) (1.14.1)\n",
            "Requirement already satisfied: libclang>=13.0.0 in /usr/local/lib/python3.8/dist-packages (from tensorflow) (15.0.6.1)\n",
            "Requirement already satisfied: flatbuffers>=2.0 in /usr/local/lib/python3.8/dist-packages (from tensorflow) (23.1.21)\n",
            "Requirement already satisfied: absl-py>=1.0.0 in /usr/local/lib/python3.8/dist-packages (from tensorflow) (1.4.0)\n",
            "Requirement already satisfied: numpy>=1.20 in /usr/local/lib/python3.8/dist-packages (from tensorflow) (1.22.4)\n",
            "Requirement already satisfied: termcolor>=1.1.0 in /usr/local/lib/python3.8/dist-packages (from tensorflow) (2.2.0)\n",
            "Requirement already satisfied: h5py>=2.9.0 in /usr/local/lib/python3.8/dist-packages (from tensorflow) (3.1.0)\n",
            "Requirement already satisfied: typing-extensions>=3.6.6 in /usr/local/lib/python3.8/dist-packages (from tensorflow) (4.5.0)\n",
            "Requirement already satisfied: tensorboard<2.12,>=2.11 in /usr/local/lib/python3.8/dist-packages (from tensorflow) (2.11.2)\n",
            "Requirement already satisfied: astunparse>=1.6.0 in /usr/local/lib/python3.8/dist-packages (from tensorflow) (1.6.3)\n",
            "Requirement already satisfied: keras<2.12,>=2.11.0 in /usr/local/lib/python3.8/dist-packages (from tensorflow) (2.11.0)\n",
            "Requirement already satisfied: gast<=0.4.0,>=0.2.1 in /usr/local/lib/python3.8/dist-packages (from tensorflow) (0.4.0)\n",
            "Requirement already satisfied: six>=1.12.0 in /usr/local/lib/python3.8/dist-packages (from tensorflow) (1.15.0)\n",
            "Requirement already satisfied: opt-einsum>=2.3.2 in /usr/local/lib/python3.8/dist-packages (from tensorflow) (3.3.0)\n",
            "Requirement already satisfied: google-pasta>=0.1.1 in /usr/local/lib/python3.8/dist-packages (from tensorflow) (0.2.0)\n",
            "Requirement already satisfied: wheel<1.0,>=0.23.0 in /usr/local/lib/python3.8/dist-packages (from astunparse>=1.6.0->tensorflow) (0.38.4)\n",
            "Requirement already satisfied: google-auth-oauthlib<0.5,>=0.4.1 in /usr/local/lib/python3.8/dist-packages (from tensorboard<2.12,>=2.11->tensorflow) (0.4.6)\n",
            "Requirement already satisfied: requests<3,>=2.21.0 in /usr/local/lib/python3.8/dist-packages (from tensorboard<2.12,>=2.11->tensorflow) (2.25.1)\n",
            "Requirement already satisfied: markdown>=2.6.8 in /usr/local/lib/python3.8/dist-packages (from tensorboard<2.12,>=2.11->tensorflow) (3.4.1)\n",
            "Requirement already satisfied: tensorboard-data-server<0.7.0,>=0.6.0 in /usr/local/lib/python3.8/dist-packages (from tensorboard<2.12,>=2.11->tensorflow) (0.6.1)\n",
            "Requirement already satisfied: tensorboard-plugin-wit>=1.6.0 in /usr/local/lib/python3.8/dist-packages (from tensorboard<2.12,>=2.11->tensorflow) (1.8.1)\n",
            "Requirement already satisfied: google-auth<3,>=1.6.3 in /usr/local/lib/python3.8/dist-packages (from tensorboard<2.12,>=2.11->tensorflow) (2.16.0)\n",
            "Requirement already satisfied: werkzeug>=1.0.1 in /usr/local/lib/python3.8/dist-packages (from tensorboard<2.12,>=2.11->tensorflow) (1.0.1)\n",
            "Requirement already satisfied: pyasn1-modules>=0.2.1 in /usr/local/lib/python3.8/dist-packages (from google-auth<3,>=1.6.3->tensorboard<2.12,>=2.11->tensorflow) (0.2.8)\n",
            "Requirement already satisfied: cachetools<6.0,>=2.0.0 in /usr/local/lib/python3.8/dist-packages (from google-auth<3,>=1.6.3->tensorboard<2.12,>=2.11->tensorflow) (5.3.0)\n",
            "Requirement already satisfied: rsa<5,>=3.1.4 in /usr/local/lib/python3.8/dist-packages (from google-auth<3,>=1.6.3->tensorboard<2.12,>=2.11->tensorflow) (4.9)\n",
            "Requirement already satisfied: requests-oauthlib>=0.7.0 in /usr/local/lib/python3.8/dist-packages (from google-auth-oauthlib<0.5,>=0.4.1->tensorboard<2.12,>=2.11->tensorflow) (1.3.1)\n",
            "Requirement already satisfied: importlib-metadata>=4.4 in /usr/local/lib/python3.8/dist-packages (from markdown>=2.6.8->tensorboard<2.12,>=2.11->tensorflow) (6.0.0)\n",
            "Requirement already satisfied: idna<3,>=2.5 in /usr/local/lib/python3.8/dist-packages (from requests<3,>=2.21.0->tensorboard<2.12,>=2.11->tensorflow) (2.10)\n",
            "Requirement already satisfied: chardet<5,>=3.0.2 in /usr/local/lib/python3.8/dist-packages (from requests<3,>=2.21.0->tensorboard<2.12,>=2.11->tensorflow) (4.0.0)\n",
            "Requirement already satisfied: certifi>=2017.4.17 in /usr/local/lib/python3.8/dist-packages (from requests<3,>=2.21.0->tensorboard<2.12,>=2.11->tensorflow) (2022.12.7)\n",
            "Requirement already satisfied: urllib3<1.27,>=1.21.1 in /usr/local/lib/python3.8/dist-packages (from requests<3,>=2.21.0->tensorboard<2.12,>=2.11->tensorflow) (1.24.3)\n",
            "Requirement already satisfied: zipp>=0.5 in /usr/local/lib/python3.8/dist-packages (from importlib-metadata>=4.4->markdown>=2.6.8->tensorboard<2.12,>=2.11->tensorflow) (3.13.0)\n",
            "Requirement already satisfied: pyasn1<0.5.0,>=0.4.6 in /usr/local/lib/python3.8/dist-packages (from pyasn1-modules>=0.2.1->google-auth<3,>=1.6.3->tensorboard<2.12,>=2.11->tensorflow) (0.4.8)\n",
            "Requirement already satisfied: oauthlib>=3.0.0 in /usr/local/lib/python3.8/dist-packages (from requests-oauthlib>=0.7.0->google-auth-oauthlib<0.5,>=0.4.1->tensorboard<2.12,>=2.11->tensorflow) (3.2.2)\n",
            "Looking in indexes: https://pypi.org/simple, https://us-python.pkg.dev/colab-wheels/public/simple/\n",
            "Requirement already satisfied: keras in /usr/local/lib/python3.8/dist-packages (2.11.0)\n",
            "Reading package lists... Done\n",
            "Building dependency tree       \n",
            "Reading state information... Done\n",
            "The following package was automatically installed and is no longer required:\n",
            "  libnvidia-common-510\n",
            "Use 'apt autoremove' to remove it.\n",
            "The following additional packages will be installed:\n",
            "  libpython3.9-minimal libpython3.9-stdlib python3.9-minimal\n",
            "Suggested packages:\n",
            "  python3.9-venv binfmt-support\n",
            "The following NEW packages will be installed:\n",
            "  libpython3.9-minimal libpython3.9-stdlib python3.9 python3.9-minimal\n",
            "0 upgraded, 4 newly installed, 0 to remove and 21 not upgraded.\n",
            "Need to get 5,023 kB of archives.\n",
            "After this operation, 19.7 MB of additional disk space will be used.\n",
            "Get:1 http://ppa.launchpad.net/deadsnakes/ppa/ubuntu focal/main amd64 libpython3.9-minimal amd64 3.9.16-1+focal1 [804 kB]\n",
            "Get:2 http://ppa.launchpad.net/deadsnakes/ppa/ubuntu focal/main amd64 python3.9-minimal amd64 3.9.16-1+focal1 [2,062 kB]\n",
            "Get:3 http://ppa.launchpad.net/deadsnakes/ppa/ubuntu focal/main amd64 libpython3.9-stdlib amd64 3.9.16-1+focal1 [1,662 kB]\n",
            "Get:4 http://ppa.launchpad.net/deadsnakes/ppa/ubuntu focal/main amd64 python3.9 amd64 3.9.16-1+focal1 [495 kB]\n",
            "Fetched 5,023 kB in 0s (13.8 MB/s)\n",
            "Selecting previously unselected package libpython3.9-minimal:amd64.\n",
            "(Reading database ... 128126 files and directories currently installed.)\n",
            "Preparing to unpack .../libpython3.9-minimal_3.9.16-1+focal1_amd64.deb ...\n",
            "Unpacking libpython3.9-minimal:amd64 (3.9.16-1+focal1) ...\n",
            "Selecting previously unselected package python3.9-minimal.\n",
            "Preparing to unpack .../python3.9-minimal_3.9.16-1+focal1_amd64.deb ...\n",
            "Unpacking python3.9-minimal (3.9.16-1+focal1) ...\n",
            "Selecting previously unselected package libpython3.9-stdlib:amd64.\n",
            "Preparing to unpack .../libpython3.9-stdlib_3.9.16-1+focal1_amd64.deb ...\n",
            "Unpacking libpython3.9-stdlib:amd64 (3.9.16-1+focal1) ...\n",
            "Selecting previously unselected package python3.9.\n",
            "Preparing to unpack .../python3.9_3.9.16-1+focal1_amd64.deb ...\n",
            "Unpacking python3.9 (3.9.16-1+focal1) ...\n",
            "Setting up libpython3.9-minimal:amd64 (3.9.16-1+focal1) ...\n",
            "Setting up python3.9-minimal (3.9.16-1+focal1) ...\n",
            "Setting up libpython3.9-stdlib:amd64 (3.9.16-1+focal1) ...\n",
            "Setting up python3.9 (3.9.16-1+focal1) ...\n",
            "Processing triggers for man-db (2.9.1-1) ...\n",
            "Processing triggers for mime-support (3.64ubuntu1) ...\n"
          ]
        }
      ]
    },
    {
      "cell_type": "code",
      "source": [
        "# Training\n",
        "history_embedding = model_embed.fit(\n",
        "    x=X_train_sequence,\n",
        "    y=y_train,\n",
        "    batch_size=BATCH_SIZE,\n",
        "    epochs=EPOCH,\n",
        "    validation_split=0.2,\n",
        ")"
      ],
      "metadata": {
        "id": "m-EAOlCR7zDs",
        "colab": {
          "base_uri": "https://localhost:8080/"
        },
        "outputId": "58b76a3a-3cd9-428b-d46c-ffc81d219ac7"
      },
      "execution_count": 16,
      "outputs": [
        {
          "output_type": "stream",
          "name": "stdout",
          "text": [
            "Epoch 1/2\n",
            "105/105 [==============================] - 2s 10ms/step - loss: 0.3746 - binary_accuracy: 0.8672 - val_loss: 0.2510 - val_binary_accuracy: 0.8876\n",
            "Epoch 2/2\n",
            "105/105 [==============================] - 1s 7ms/step - loss: 0.1688 - binary_accuracy: 0.9488 - val_loss: 0.1310 - val_binary_accuracy: 0.9593\n"
          ]
        }
      ]
    },
    {
      "cell_type": "code",
      "source": [
        "def history_line_plot(history, keys, title=\"\"):\n",
        "    for key in keys:\n",
        "        plt.plot(history[key], label=key)\n",
        "    plt.title(title)\n",
        "    plt.legend()\n",
        "    plt.show()"
      ],
      "metadata": {
        "id": "iCQyScR17kSI"
      },
      "execution_count": 17,
      "outputs": []
    },
    {
      "cell_type": "code",
      "source": [
        "# Melihat daftar metrik\n",
        "history_embedding.history.keys()"
      ],
      "metadata": {
        "id": "CuLewZG77nXC",
        "colab": {
          "base_uri": "https://localhost:8080/"
        },
        "outputId": "b036c867-606c-4985-9b0d-5d4efa34f1b5"
      },
      "execution_count": 18,
      "outputs": [
        {
          "output_type": "execute_result",
          "data": {
            "text/plain": [
              "dict_keys(['loss', 'binary_accuracy', 'val_loss', 'val_binary_accuracy'])"
            ]
          },
          "metadata": {},
          "execution_count": 18
        }
      ]
    },
    {
      "cell_type": "code",
      "source": [
        "history_line_plot(\n",
        "    history=history_embedding.history, \n",
        "    keys=[\"binary_accuracy\", \"val_binary_accuracy\"],\n",
        "    title=\"Accuracy\"\n",
        ")\n",
        "\n",
        "history_line_plot(\n",
        "    history=history_embedding.history, \n",
        "    keys=[\"loss\", \"val_loss\"],\n",
        "    title=\"Loss\"\n",
        ")"
      ],
      "metadata": {
        "id": "zHPhjsIa7XWQ",
        "colab": {
          "base_uri": "https://localhost:8080/",
          "height": 545
        },
        "outputId": "c41e600b-fb7a-483a-efaa-61e6e6c53ff8"
      },
      "execution_count": 19,
      "outputs": [
        {
          "output_type": "display_data",
          "data": {
            "text/plain": [
              "<Figure size 432x288 with 1 Axes>"
            ],
            "image/png": "[encoded data removed]"
          },
          "metadata": {
            "needs_background": "light"
          }
        },
        {
          "output_type": "display_data",
          "data": {
            "text/plain": [
              "<Figure size 432x288 with 1 Axes>"
            ],
            "image/png": "[encoded data removed]"
          },
          "metadata": {
            "needs_background": "light"
          }
        }
      ]
    },
    {
      "cell_type": "markdown",
      "source": [
        "# GRU\n",
        "Kita membuat model GRU yang memiliki daya ingat lebih lemah ketimbang LSTM, namun dengan performa yang lebih cepat dan efisien.\n",
        "\n",
        "Cara membuatnya:\n",
        "\n",
        "Buat layar Embedding\n",
        "Buat layar GRU\n",
        "Salurkan ke layar klasifikasi."
      ],
      "metadata": {
        "id": "Tm2T3OqiPRO-"
      }
    },
    {
      "cell_type": "code",
      "source": [
        "# 1. Susun layer\n",
        "## Model menerima input dengan dimensi ke-2 sebesar \"maxlen\"\n",
        "inputs = keras.layers.Input(shape=(maxlen,))\n",
        "\n",
        "## Tiap elemen dalam dimensi terakhir akan di tanamkan vektor\n",
        "x = keras.layers.Embedding(10000, EMBEDDING_DIM, input_length=maxlen)(inputs)\n",
        "\n",
        "## Layer GRU memproses kata secara berurutan dan mengeluarkan output pada urutan terakhir\n",
        "x = keras.layers.GRU(16)(x)\n",
        "\n",
        "## Salurkan ke layer klasifikasi\n",
        "outputs = keras.layers.Dense(1, activation=\"sigmoid\")(x)\n",
        "\n",
        "## catatan kalau klasifikasi multi-class\n",
        "# outputs = keras.layers.Dense(3, activation=\"softmax\")(x)\n",
        "\n",
        "# 2. Buat model\n",
        "model_gru = keras.models.Model(inputs=inputs, outputs=outputs)\n",
        "\n",
        "# 3. Compile\n",
        "model_gru.compile(\n",
        "    optimizer=tf.keras.optimizers.Adam(),\n",
        "    loss=tf.keras.losses.BinaryCrossentropy(),\n",
        "    metrics=[tf.keras.metrics.BinaryAccuracy()]\n",
        ")\n",
        "\n",
        "# 4. Cek struktur model\n",
        "model_gru.summary()"
      ],
      "metadata": {
        "colab": {
          "base_uri": "https://localhost:8080/"
        },
        "id": "H2Y8hC_4PdGt",
        "outputId": "5daa77fe-8ce5-49ff-a8ca-783184ef3ea0"
      },
      "execution_count": 20,
      "outputs": [
        {
          "output_type": "stream",
          "name": "stdout",
          "text": [
            "Model: \"model_1\"\n",
            "_________________________________________________________________\n",
            " Layer (type)                Output Shape              Param #   \n",
            "=================================================================\n",
            " input_3 (InputLayer)        [(None, 30)]              0         \n",
            "                                                                 \n",
            " embedding_1 (Embedding)     (None, 30, 32)            320000    \n",
            "                                                                 \n",
            " gru (GRU)                   (None, 16)                2400      \n",
            "                                                                 \n",
            " dense_3 (Dense)             (None, 1)                 17        \n",
            "                                                                 \n",
            "=================================================================\n",
            "Total params: 322,417\n",
            "Trainable params: 322,417\n",
            "Non-trainable params: 0\n",
            "_________________________________________________________________\n"
          ]
        }
      ]
    },
    {
      "cell_type": "code",
      "source": [
        "# Training\n",
        "history_gru = model_gru.fit(\n",
        "    x=X_train_sequence,\n",
        "    y=y_train,\n",
        "    batch_size=BATCH_SIZE,\n",
        "    epochs=EPOCH,\n",
        "    validation_split=0.2,\n",
        ")"
      ],
      "metadata": {
        "id": "gVH5K42qPhwe",
        "colab": {
          "base_uri": "https://localhost:8080/"
        },
        "outputId": "24c4aef1-1733-4fd9-c573-84fb3634f1d2"
      },
      "execution_count": 21,
      "outputs": [
        {
          "output_type": "stream",
          "name": "stdout",
          "text": [
            "Epoch 1/2\n",
            "105/105 [==============================] - 6s 28ms/step - loss: 0.4388 - binary_accuracy: 0.8567 - val_loss: 0.3565 - val_binary_accuracy: 0.8457\n",
            "Epoch 2/2\n",
            "105/105 [==============================] - 3s 31ms/step - loss: 0.1922 - binary_accuracy: 0.9246 - val_loss: 0.1085 - val_binary_accuracy: 0.9844\n"
          ]
        }
      ]
    },
    {
      "cell_type": "code",
      "source": [
        "history_line_plot(\n",
        "    history=history_gru.history, \n",
        "    keys=[\"binary_accuracy\", \"val_binary_accuracy\"],\n",
        "    title=\"Accuracy\"\n",
        ")\n",
        "\n",
        "history_line_plot(\n",
        "    history=history_gru.history, \n",
        "    keys=[\"loss\", \"val_loss\"],\n",
        "    title=\"Loss\"\n",
        ")"
      ],
      "metadata": {
        "id": "l6YA-1PXPUih",
        "colab": {
          "base_uri": "https://localhost:8080/",
          "height": 545
        },
        "outputId": "f090bd67-48a0-4e33-c523-37219a7b7cc8"
      },
      "execution_count": 22,
      "outputs": [
        {
          "output_type": "display_data",
          "data": {
            "text/plain": [
              "<Figure size 432x288 with 1 Axes>"
            ],
            "image/png": "[encoded data removed]"
          },
          "metadata": {
            "needs_background": "light"
          }
        },
        {
          "output_type": "display_data",
          "data": {
            "text/plain": [
              "<Figure size 432x288 with 1 Axes>"
            ],
            "image/png": "[encoded data removed]"
          },
          "metadata": {
            "needs_background": "light"
          }
        }
      ]
    },
    {
      "cell_type": "markdown",
      "source": [
        "# RNN\n",
        "Kita membuat model RNN sederhana yang mempelajari urutan dalam suatu data.\n",
        "\n",
        "Cara membuatnya:\n",
        "\n",
        "Buat layar Embedding\n",
        "Buat layar RNN\n",
        "Salurkan ke layar klasifikasi."
      ],
      "metadata": {
        "id": "k08HylW61r9i"
      }
    },
    {
      "cell_type": "code",
      "source": [
        "# 1. Susun layer\n",
        "## Model menerima input dengan dimensi ke-2 sebesar \"maxlen\"\n",
        "inputs = keras.layers.Input(shape=(maxlen,))\n",
        "\n",
        "## Tiap elemen dalam dimensi terakhir akan di tanamkan vektor\n",
        "x = keras.layers.Embedding(10000, EMBEDDING_DIM, input_length=maxlen)(inputs)\n",
        "\n",
        "## Layer RNN memproses kata secara berurutan dan mengeluarkan output pada urutan terakhir\n",
        "## Kalau mau numpuk, bisa pakai return_sequences\n",
        "# x = keras.layers.SimpleRNN(16, return_sequences=True)(x)\n",
        "x = keras.layers.SimpleRNN(16)(x)\n",
        "\n",
        "## Salurkan ke layer klasifikasi\n",
        "outputs = keras.layers.Dense(1, activation=\"sigmoid\")(x)\n",
        "\n",
        "# 2. Buat model\n",
        "model_rnn = keras.models.Model(inputs=inputs, outputs=outputs)\n",
        "\n",
        "# 3. Compile\n",
        "model_rnn.compile(\n",
        "    optimizer=tf.keras.optimizers.Adam(),\n",
        "    loss=tf.keras.losses.BinaryCrossentropy(),\n",
        "    metrics=[tf.keras.metrics.BinaryAccuracy()]\n",
        ")\n",
        "\n",
        "# 4. Cek struktur model\n",
        "model_rnn.summary()"
      ],
      "metadata": {
        "colab": {
          "base_uri": "https://localhost:8080/"
        },
        "id": "MrMXvfek1wW6",
        "outputId": "b3cb1e0e-4efb-4742-ead2-ccea58ccb0b3"
      },
      "execution_count": 23,
      "outputs": [
        {
          "output_type": "stream",
          "name": "stdout",
          "text": [
            "Model: \"model_2\"\n",
            "_________________________________________________________________\n",
            " Layer (type)                Output Shape              Param #   \n",
            "=================================================================\n",
            " input_4 (InputLayer)        [(None, 30)]              0         \n",
            "                                                                 \n",
            " embedding_2 (Embedding)     (None, 30, 32)            320000    \n",
            "                                                                 \n",
            " simple_rnn (SimpleRNN)      (None, 16)                784       \n",
            "                                                                 \n",
            " dense_4 (Dense)             (None, 1)                 17        \n",
            "                                                                 \n",
            "=================================================================\n",
            "Total params: 320,801\n",
            "Trainable params: 320,801\n",
            "Non-trainable params: 0\n",
            "_________________________________________________________________\n"
          ]
        }
      ]
    },
    {
      "cell_type": "code",
      "source": [
        "# Training\n",
        "history_rnn = model_rnn.fit(\n",
        "    x=X_train_sequence,\n",
        "    y=y_train,\n",
        "    batch_size=BATCH_SIZE,\n",
        "    epochs=EPOCH,\n",
        "    validation_split=0.2,\n",
        ")"
      ],
      "metadata": {
        "id": "rQUocaj73JF3",
        "colab": {
          "base_uri": "https://localhost:8080/"
        },
        "outputId": "fa28165c-47f3-4426-9d0f-77994bedadbf"
      },
      "execution_count": 24,
      "outputs": [
        {
          "output_type": "stream",
          "name": "stdout",
          "text": [
            "Epoch 1/2\n",
            "105/105 [==============================] - 4s 19ms/step - loss: 0.3094 - binary_accuracy: 0.9153 - val_loss: 0.1666 - val_binary_accuracy: 0.9617\n",
            "Epoch 2/2\n",
            "105/105 [==============================] - 2s 15ms/step - loss: 0.1118 - binary_accuracy: 0.9782 - val_loss: 0.1228 - val_binary_accuracy: 0.9677\n"
          ]
        }
      ]
    },
    {
      "cell_type": "code",
      "source": [
        "history_line_plot(\n",
        "    history=history_rnn.history, \n",
        "    keys=[\"binary_accuracy\", \"val_binary_accuracy\"],\n",
        "    title=\"Accuracy\"\n",
        ")\n",
        "\n",
        "history_line_plot(\n",
        "    history=history_rnn.history, \n",
        "    keys=[\"loss\", \"val_loss\"],\n",
        "    title=\"Loss\"\n",
        ")"
      ],
      "metadata": {
        "id": "JN5-iJou3OEV",
        "colab": {
          "base_uri": "https://localhost:8080/",
          "height": 545
        },
        "outputId": "6f10c2d1-646d-492e-bc79-404652e4c973"
      },
      "execution_count": 25,
      "outputs": [
        {
          "output_type": "display_data",
          "data": {
            "text/plain": [
              "<Figure size 432x288 with 1 Axes>"
            ],
            "image/png": "[encoded data removed]"
          },
          "metadata": {
            "needs_background": "light"
          }
        },
        {
          "output_type": "display_data",
          "data": {
            "text/plain": [
              "<Figure size 432x288 with 1 Axes>"
            ],
            "image/png": "[encoded data removed]"
          },
          "metadata": {
            "needs_background": "light"
          }
        }
      ]
    },
    {
      "cell_type": "markdown",
      "source": [
        "# LSTM\n",
        "Kita membuat model LSTM yang memiliki daya ingat yang melebihi model RNN.\n",
        "\n",
        "Cara membuatnya:\n",
        "\n",
        "Buat layar Embedding\n",
        "Buat layar LSTM\n",
        "Salurkan ke layar klasifikasi."
      ],
      "metadata": {
        "id": "yMaBw3663wZN"
      }
    },
    {
      "cell_type": "code",
      "source": [
        "# 1. Susun layer\n",
        "## Model menerima input dengan dimensi ke-2 sebesar \"maxlen\"\n",
        "inputs = keras.layers.Input(shape=(maxlen,))\n",
        "\n",
        "## Tiap elemen dalam dimensi terakhir akan di tanamkan vektor\n",
        "x = keras.layers.Embedding(10000, EMBEDDING_DIM, input_length=maxlen)(inputs)\n",
        "\n",
        "## Layer LSTM memproses kata secara berurutan dan mengeluarkan output pada urutan terakhir\n",
        "x = keras.layers.LSTM(16)(x)\n",
        "\n",
        "## Salurkan ke layer klasifikasi\n",
        "outputs = keras.layers.Dense(1, activation=\"sigmoid\")(x)\n",
        "\n",
        "# 2. Buat model\n",
        "model_lstm = keras.models.Model(inputs=inputs, outputs=outputs)\n",
        "\n",
        "# 3. Compile\n",
        "model_lstm.compile(\n",
        "    optimizer=tf.keras.optimizers.Adam(),\n",
        "    loss=tf.keras.losses.BinaryCrossentropy(),\n",
        "    metrics=[tf.keras.metrics.BinaryAccuracy()]\n",
        ")\n",
        "\n",
        "# 4. Cek struktur model\n",
        "model_lstm.summary()"
      ],
      "metadata": {
        "colab": {
          "base_uri": "https://localhost:8080/"
        },
        "id": "tc-Las0N3zdS",
        "outputId": "ce366260-9d46-4262-dfc8-f2fa1787995c"
      },
      "execution_count": 26,
      "outputs": [
        {
          "output_type": "stream",
          "name": "stdout",
          "text": [
            "Model: \"model_3\"\n",
            "_________________________________________________________________\n",
            " Layer (type)                Output Shape              Param #   \n",
            "=================================================================\n",
            " input_5 (InputLayer)        [(None, 30)]              0         \n",
            "                                                                 \n",
            " embedding_3 (Embedding)     (None, 30, 32)            320000    \n",
            "                                                                 \n",
            " lstm (LSTM)                 (None, 16)                3136      \n",
            "                                                                 \n",
            " dense_5 (Dense)             (None, 1)                 17        \n",
            "                                                                 \n",
            "=================================================================\n",
            "Total params: 323,153\n",
            "Trainable params: 323,153\n",
            "Non-trainable params: 0\n",
            "_________________________________________________________________\n"
          ]
        }
      ]
    },
    {
      "cell_type": "code",
      "source": [
        "# Training\n",
        "history_lstm = model_lstm.fit(\n",
        "    x=X_train_sequence,\n",
        "    y=y_train,\n",
        "    batch_size=BATCH_SIZE,\n",
        "    epochs=EPOCH,\n",
        "    validation_split=0.2,\n",
        ")"
      ],
      "metadata": {
        "id": "NwJhp-1J32P7",
        "colab": {
          "base_uri": "https://localhost:8080/"
        },
        "outputId": "d6f2dc5b-ee89-4d10-a666-54ae1cbe22ae"
      },
      "execution_count": 27,
      "outputs": [
        {
          "output_type": "stream",
          "name": "stdout",
          "text": [
            "Epoch 1/2\n",
            "105/105 [==============================] - 5s 29ms/step - loss: 0.3516 - binary_accuracy: 0.8666 - val_loss: 0.1504 - val_binary_accuracy: 0.9581\n",
            "Epoch 2/2\n",
            "105/105 [==============================] - 3s 29ms/step - loss: 0.0969 - binary_accuracy: 0.9835 - val_loss: 0.1081 - val_binary_accuracy: 0.9761\n"
          ]
        }
      ]
    },
    {
      "cell_type": "code",
      "source": [
        "history_line_plot(\n",
        "    history=history_lstm.history, \n",
        "    keys=[\"binary_accuracy\", \"val_binary_accuracy\"],\n",
        "    title=\"Accuracy\"\n",
        ")\n",
        "\n",
        "history_line_plot(\n",
        "    history=history_lstm.history, \n",
        "    keys=[\"loss\", \"val_loss\"],\n",
        "    title=\"Loss\"\n",
        ")"
      ],
      "metadata": {
        "id": "P7rDrIIn34b1",
        "colab": {
          "base_uri": "https://localhost:8080/",
          "height": 545
        },
        "outputId": "d7d90c99-395a-4704-d6b1-f4b95ba7a649"
      },
      "execution_count": 28,
      "outputs": [
        {
          "output_type": "display_data",
          "data": {
            "text/plain": [
              "<Figure size 432x288 with 1 Axes>"
            ],
            "image/png": "[encoded data removed]"
          },
          "metadata": {
            "needs_background": "light"
          }
        },
        {
          "output_type": "display_data",
          "data": {
            "text/plain": [
              "<Figure size 432x288 with 1 Axes>"
            ],
            "image/png": "[encoded data removed]"
          },
          "metadata": {
            "needs_background": "light"
          }
        }
      ]
    },
    {
      "cell_type": "markdown",
      "source": [
        "# Evaluasi & Prediksi"
      ],
      "metadata": {
        "id": "HG3jf4mHNFM2"
      }
    },
    {
      "cell_type": "code",
      "source": [
        "# Evaluasi\n",
        "loss, acc = model_embed.evaluate(X_test_sequence, y_test)\n",
        "print(f\"Model test loss: {loss}\")\n",
        "print(f\"Model test acc: {acc}\")"
      ],
      "metadata": {
        "id": "fmyTBnfBNrSz",
        "colab": {
          "base_uri": "https://localhost:8080/"
        },
        "outputId": "40227641-5e25-476e-a2f6-e667329af2c1"
      },
      "execution_count": 29,
      "outputs": [
        {
          "output_type": "stream",
          "name": "stdout",
          "text": [
            "44/44 [==============================] - 0s 9ms/step - loss: 0.1256 - binary_accuracy: 0.9677\n",
            "Model test loss: 0.12558825314044952\n",
            "Model test acc: 0.9676955938339233\n"
          ]
        }
      ]
    },
    {
      "cell_type": "markdown",
      "source": [],
      "metadata": {
        "id": "BqJEWvnJ3i0j"
      }
    },
    {
      "cell_type": "code",
      "source": [
        "def predict(texts, model):\n",
        "    texts = [preprocess_text(text) for text in texts]\n",
        "    seq = tokenizer.texts_to_sequences(texts)\n",
        "    seq = tf.keras.preprocessing.sequence.pad_sequences(seq, maxlen=maxlen, padding=\"post\")\n",
        "    probs = model.predict(seq)\n",
        "    return probs\n",
        "\n",
        "samples = [\n",
        "           \"Go until jurong point\", \n",
        "           \"Hi, how are you doing?\",\n",
        "           \"Free entry in 2 a wkly comp to win FA Cup\"\n",
        "            ]\n",
        "\n",
        "probs = predict(samples, model_embed)\n",
        "predictions = tf.where(probs > 0.1, \"Spam\", \"Tidak Spam\")\n",
        "predictions = tf.squeeze(predictions, axis=-1)\n",
        "\n",
        "for sample, prob, label in zip(samples, probs, predictions):\n",
        "    print(f\"Kalimat: {sample}\")\n",
        "    print(f\"Probabilitas: {prob}\")\n",
        "    print(f\"Label: {label.numpy().decode()}\")\n",
        "    print()"
      ],
      "metadata": {
        "colab": {
          "base_uri": "https://localhost:8080/"
        },
        "id": "6Ymyd3EmHfGS",
        "outputId": "3f22edd7-ac7b-4691-ad20-e0ebb129888c"
      },
      "execution_count": 30,
      "outputs": [
        {
          "output_type": "stream",
          "name": "stdout",
          "text": [
            "1/1 [==============================] - 0s 149ms/step\n",
            "Kalimat: Go until jurong point\n",
            "Probabilitas: [0.01051041]\n",
            "Label: Tidak Spam\n",
            "\n",
            "Kalimat: Hi, how are you doing?\n",
            "Probabilitas: [0.00755384]\n",
            "Label: Tidak Spam\n",
            "\n",
            "Kalimat: Free entry in 2 a wkly comp to win FA Cup\n",
            "Probabilitas: [0.09519164]\n",
            "Label: Tidak Spam\n",
            "\n"
          ]
        }
      ]
    }
  ]
}